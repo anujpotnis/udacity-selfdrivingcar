{
 "cells": [
  {
   "cell_type": "code",
   "execution_count": 1,
   "metadata": {
    "collapsed": false
   },
   "outputs": [
    {
     "name": "stdout",
     "output_type": "stream",
     "text": [
      "8\n"
     ]
    }
   ],
   "source": [
    "print(5+3)"
   ]
  },
  {
   "cell_type": "code",
   "execution_count": null,
   "metadata": {
    "collapsed": true
   },
   "outputs": [],
   "source": [
    "'''\n",
    "http://stackoverflow.com/questions/19564625/how-can-i-import-from-another-ipython-notebook\n",
    "\n",
    "When you start ipython use the --script flag: For example\n",
    "\n",
    "ipython notebook --script\n",
    "Then whenever you save your notebook \"common_func.ipnb\" it will also create a file entitled \"common_func.py.\" You can import functions from that by using\n",
    "\n",
    "from common_func import func_a\n",
    "If you change the common_func notebook, you may need to use\n",
    "\n",
    "reload()\n",
    "'''"
   ]
  },
  {
   "cell_type": "code",
   "execution_count": null,
   "metadata": {
    "collapsed": true
   },
   "outputs": [],
   "source": [
    "'''\n",
    "name python modules without hyphen. Underscore is okay\n",
    "'''"
   ]
  }
 ],
 "metadata": {
  "anaconda-cloud": {},
  "kernelspec": {
   "display_name": "Python [conda root]",
   "language": "python",
   "name": "conda-root-py"
  },
  "language_info": {
   "codemirror_mode": {
    "name": "ipython",
    "version": 3
   },
   "file_extension": ".py",
   "mimetype": "text/x-python",
   "name": "python",
   "nbconvert_exporter": "python",
   "pygments_lexer": "ipython3",
   "version": "3.5.2"
  }
 },
 "nbformat": 4,
 "nbformat_minor": 1
}
