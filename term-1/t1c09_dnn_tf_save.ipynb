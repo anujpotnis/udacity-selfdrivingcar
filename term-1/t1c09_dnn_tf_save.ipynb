{
 "cells": [
  {
   "cell_type": "code",
   "execution_count": 5,
   "metadata": {
    "collapsed": false,
    "deletable": true,
    "editable": true
   },
   "outputs": [],
   "source": [
    "import tensorflow as tf\n",
    "\n",
    "# model.ckpt.meta contains the TensorFlow graph\n",
    "save_file = 'model.ckpt'\n",
    "\n",
    "# two tensor variable\n",
    "weights = tf.Variable(tf.truncated_normal([2,3]), name=\"w1\")\n",
    "bias = tf.Variable(tf.truncated_normal([3]), name=\"b1\")\n",
    "\n",
    "# class used to save/restore Tensor Variables\n",
    "saver = tf.train.Saver()"
   ]
  },
  {
   "cell_type": "code",
   "execution_count": 6,
   "metadata": {
    "collapsed": false,
    "deletable": true,
    "editable": true,
    "scrolled": true
   },
   "outputs": [
    {
     "name": "stdout",
     "output_type": "stream",
     "text": [
      "weights: \n",
      "[[-0.08884048  1.32973289  1.14151418]\n",
      " [ 0.20099142  0.03992639 -0.45728549]]\n",
      "biases: \n",
      "[ 1.0061264  -1.36702108 -1.16653168]\n",
      "Model saved in file: model.ckpt\n"
     ]
    }
   ],
   "source": [
    "with tf.Session() as sess:\n",
    "    # initialize all variables\n",
    "    sess.run(tf.global_variables_initializer())\n",
    "    \n",
    "    print('weights: ')\n",
    "    print(sess.run(weights))\n",
    "    print('biases: ')\n",
    "    print(sess.run(bias))\n",
    "    \n",
    "    # save the model\n",
    "    save_path = saver.save(sess, save_file)\n",
    "    print(\"Model saved in file: %s\" % save_path)\n",
    "    \n",
    "    "
   ]
  }
 ],
 "metadata": {
  "kernelspec": {
   "display_name": "Python 3",
   "language": "python",
   "name": "python3"
  },
  "language_info": {
   "codemirror_mode": {
    "name": "ipython",
    "version": 3
   },
   "file_extension": ".py",
   "mimetype": "text/x-python",
   "name": "python",
   "nbconvert_exporter": "python",
   "pygments_lexer": "ipython3",
   "version": "3.5.2"
  },
  "widgets": {
   "state": {},
   "version": "1.1.2"
  }
 },
 "nbformat": 4,
 "nbformat_minor": 2
}
