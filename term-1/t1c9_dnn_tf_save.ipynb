{
 "cells": [
  {
   "cell_type": "code",
   "execution_count": 1,
   "metadata": {
    "collapsed": false,
    "deletable": true,
    "editable": true
   },
   "outputs": [],
   "source": [
    "import tensorflow as tf\n",
    "\n",
    "# model.ckpt.meta contains the TensorFlow graph\n",
    "save_file = '/home/anuj/research/sdc/udacity-selfdrivingcar/term-1/model.ckpt'\n",
    "\n",
    "# two tensor variable\n",
    "weights = tf.Variable(tf.truncated_normal([2,3]), name=\"w1\")\n",
    "bias = tf.Variable(tf.truncated_normal([3]), name=\"b1\")\n",
    "\n",
    "# class used to save/restore Tensor Variables\n",
    "saver = tf.train.Saver()"
   ]
  },
  {
   "cell_type": "code",
   "execution_count": 2,
   "metadata": {
    "collapsed": false,
    "scrolled": true
   },
   "outputs": [
    {
     "name": "stdout",
     "output_type": "stream",
     "text": [
      "weights: \n",
      "[[-1.3580122   1.47015178 -0.97568232]\n",
      " [-0.59438705 -0.68100506 -1.42766857]]\n",
      "biases: \n",
      "[-0.90178674  0.07336103  1.02497411]\n",
      "Model saved in file: /home/anuj/research/sdc/udacity-selfdrivingcar/term-1/model.ckpt\n"
     ]
    }
   ],
   "source": [
    "with tf.Session() as sess:\n",
    "    # initialize all variables\n",
    "    sess.run(tf.global_variables_initializer())\n",
    "    \n",
    "    print('weights: ')\n",
    "    print(sess.run(weights))\n",
    "    print('biases: ')\n",
    "    print(sess.run(bias))\n",
    "    \n",
    "    # save the model\n",
    "    save_path = saver.save(sess, save_file)\n",
    "    print(\"Model saved in file: %s\" % save_path)\n",
    "    \n",
    "    "
   ]
  }
 ],
 "metadata": {
  "kernelspec": {
   "display_name": "Python 3",
   "language": "python",
   "name": "python3"
  },
  "language_info": {
   "codemirror_mode": {
    "name": "ipython",
    "version": 3
   },
   "file_extension": ".py",
   "mimetype": "text/x-python",
   "name": "python",
   "nbconvert_exporter": "python",
   "pygments_lexer": "ipython3",
   "version": "3.5.2"
  },
  "widgets": {
   "state": {},
   "version": "1.1.2"
  }
 },
 "nbformat": 4,
 "nbformat_minor": 2
}
