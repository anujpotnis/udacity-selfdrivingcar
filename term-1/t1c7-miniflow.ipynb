{
 "cells": [
  {
   "cell_type": "markdown",
   "metadata": {},
   "source": [
    "## Miniflow"
   ]
  },
  {
   "cell_type": "code",
   "execution_count": 2,
   "metadata": {
    "collapsed": false
   },
   "outputs": [],
   "source": [
    "class Node(object):\n",
    "    def __init__(self, inbound_nodes=[]):\n",
    "        # nodes from which this node receives values\n",
    "        self.inbound_nodes = inbound_nodes\n",
    "        # nodes to which this node passes values\n",
    "        self.outbound_nodes = []\n",
    "        \n",
    "        # for each inbound node here, add this node as outbound node to _that_\n",
    "        for n in self.inbound_nodes:\n",
    "            n.outbound_nodes.append(self)\n",
    "        # a calculated value\n",
    "        self.value = None\n",
    "        \n",
    "    def forward(self):\n",
    "        '''\n",
    "        Forward propagation\n",
    "        '''\n",
    "        raise NotImplemented\n",
    "        '''\n",
    "        https://www.quantifiedcode.com/knowledge-base/\n",
    "        correctness/%60NotImplemented%60%20raised,%20instead%20of%20%60NotImplementedError%60/28OZRVf7\n",
    "        '''\n"
   ]
  },
  {
   "cell_type": "code",
   "execution_count": 3,
   "metadata": {
    "collapsed": false
   },
   "outputs": [],
   "source": [
    "class Input(Node):\n",
    "    def __init__(self):\n",
    "        # Input node has no inbound nodes, so nothing is passed to node instantiator\n",
    "        Node.__init__(self)\n",
    "        \n",
    "    #Note: Input node is the only node where value may be passed as argument to forward()\n",
    "    #\n",
    "    # all other nodes get values of previous nodes from self.inbound_nodes\n",
    "    #\n",
    "    # Example:\n",
    "    # val0 = self.inbound_nodes[0].value\n",
    "    def forward(self, value=None):\n",
    "        # overwrite the value if one is passed in\n",
    "        if value is not None:\n",
    "            self.value = value"
   ]
  },
  {
   "cell_type": "markdown",
   "metadata": {},
   "source": [
    "## Quiz code"
   ]
  },
  {
   "cell_type": "code",
   "execution_count": null,
   "metadata": {
    "collapsed": true
   },
   "outputs": [],
   "source": [
    "class Add(Node):\n",
    "    def __init__(self,x,y):\n",
    "        Node.__init__(self,[x,y])\n",
    "        \n",
    "    def forward(self):\n",
    "        \"\"\"\n",
    "        quiz code:\n",
    "        \"\"\""
   ]
  },
  {
   "cell_type": "code",
   "execution_count": null,
   "metadata": {
    "collapsed": true
   },
   "outputs": [],
   "source": [
    "def forward_pass(output_node, sorted_nodes):\n",
    "    \"\"\"\n",
    "    Performs a forward pass through a list of sorted nodes\n",
    "    \n",
    "    Arguments:\n",
    "        'output_node': output node of the graph (no out going edges)\n",
    "        'sorted_nodes': topologically sorted list of nodes\n",
    "\n",
    "    Returns the output node's value\n",
    "    \"\"\"\n",
    "    \n",
    "    for n in sorted_nodes:\n",
    "        n.forward()\n",
    "        \n",
    "    return output_node.value"
   ]
  }
 ],
 "metadata": {
  "anaconda-cloud": {},
  "kernelspec": {
   "display_name": "Python 2",
   "language": "python",
   "name": "python2"
  },
  "language_info": {
   "codemirror_mode": {
    "name": "ipython",
    "version": 2
   },
   "file_extension": ".py",
   "mimetype": "text/x-python",
   "name": "python",
   "nbconvert_exporter": "python",
   "pygments_lexer": "ipython2",
   "version": "2.7.12"
  }
 },
 "nbformat": 4,
 "nbformat_minor": 1
}
