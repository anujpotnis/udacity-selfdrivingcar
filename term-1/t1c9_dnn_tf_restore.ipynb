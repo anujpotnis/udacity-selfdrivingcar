{
 "cells": [
  {
   "cell_type": "markdown",
   "metadata": {
    "collapsed": false,
    "deletable": true,
    "editable": true
   },
   "source": [
    "### Loading Variables"
   ]
  },
  {
   "cell_type": "code",
   "execution_count": 1,
   "metadata": {
    "collapsed": true,
    "deletable": true,
    "editable": true
   },
   "outputs": [],
   "source": [
    "import tensorflow as tf"
   ]
  },
  {
   "cell_type": "code",
   "execution_count": 2,
   "metadata": {
    "collapsed": true
   },
   "outputs": [],
   "source": [
    "tf.reset_default_graph()"
   ]
  },
  {
   "cell_type": "code",
   "execution_count": 3,
   "metadata": {
    "collapsed": true,
    "deletable": true,
    "editable": true
   },
   "outputs": [],
   "source": [
    "save_file = '/home/anuj/research/sdc/udacity-selfdrivingcar/term-1/model.ckpt' # model.ckpt.meta contains the TensorFlow graph\n",
    "\n",
    "# create the variables again\n",
    "weights = tf.Variable(tf.truncated_normal([2,3]), name=\"w1\")\n",
    "bias = tf.Variable(tf.truncated_normal([3]), name=\"b1\")\n",
    "\n",
    "# class used to save and/or restore tensor variables\n",
    "saver = tf.train.Saver()"
   ]
  },
  {
   "cell_type": "code",
   "execution_count": 4,
   "metadata": {
    "collapsed": false,
    "deletable": true,
    "editable": true
   },
   "outputs": [
    {
     "name": "stdout",
     "output_type": "stream",
     "text": [
      "weights: \n",
      "[[ nan  nan  nan]\n",
      " [ nan  nan  nan]]\n",
      "biases: \n",
      "[ nan  nan  nan]\n"
     ]
    }
   ],
   "source": [
    "with tf.Session() as sess:\n",
    "    # load the weights and bias. Also set all the variable so no need to initialize\n",
    "    saver.restore(sess, save_file)\n",
    "    \n",
    "    # show \n",
    "    print('weights: ')\n",
    "    print(sess.run(weights))\n",
    "    print('biases: ')\n",
    "    print(sess.run(bias))"
   ]
  },
  {
   "cell_type": "code",
   "execution_count": null,
   "metadata": {
    "collapsed": true
   },
   "outputs": [],
   "source": []
  }
 ],
 "metadata": {
  "kernelspec": {
   "display_name": "Python 3",
   "language": "python",
   "name": "python3"
  },
  "language_info": {
   "codemirror_mode": {
    "name": "ipython",
    "version": 3
   },
   "file_extension": ".py",
   "mimetype": "text/x-python",
   "name": "python",
   "nbconvert_exporter": "python",
   "pygments_lexer": "ipython3",
   "version": "3.5.2"
  },
  "widgets": {
   "state": {},
   "version": "1.1.2"
  }
 },
 "nbformat": 4,
 "nbformat_minor": 2
}
